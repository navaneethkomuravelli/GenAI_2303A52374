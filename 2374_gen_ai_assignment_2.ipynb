{
  "nbformat": 4,
  "nbformat_minor": 0,
  "metadata": {
    "colab": {
      "provenance": [],
      "authorship_tag": "ABX9TyPI90cY/K03Yqm1iCX1ffbm",
      "include_colab_link": true
    },
    "kernelspec": {
      "name": "python3",
      "display_name": "Python 3"
    },
    "language_info": {
      "name": "python"
    }
  },
  "cells": [
    {
      "cell_type": "markdown",
      "metadata": {
        "id": "view-in-github",
        "colab_type": "text"
      },
      "source": [
        "<a href=\"https://colab.research.google.com/github/navaneethkomuravelli/GenAI_2303A52374/blob/main/2374_gen_ai_assignment_2.ipynb\" target=\"_parent\"><img src=\"https://colab.research.google.com/assets/colab-badge.svg\" alt=\"Open In Colab\"/></a>"
      ]
    },
    {
      "cell_type": "markdown",
      "source": [
        "ASSIGNMENT 2"
      ],
      "metadata": {
        "id": "kDs0fASQQdLq"
      }
    },
    {
      "cell_type": "code",
      "source": [
        "milk_available = 5\n",
        "choco_available = 12\n",
        "profit_A = 6\n",
        "profit_B = 5\n",
        "\n",
        "\n",
        "milk_per_A = 1\n",
        "choco_per_A = 3\n",
        "milk_per_B = 1\n",
        "choco_per_B = 2\n",
        "\n",
        "max_profit = 0\n",
        "optimal_A = 0\n",
        "optimal_B = 0\n",
        "\n",
        "for A in range(milk_available + 1):\n",
        "    for B in range(milk_available + 1):\n",
        "\n",
        "        milk_used = (A * milk_per_A) + (B * milk_per_B)\n",
        "        choco_used = (A * choco_per_A) + (B * choco_per_B)\n",
        "\n",
        "\n",
        "        if milk_used <= milk_available and choco_used <= choco_available:\n",
        "\n",
        "            profit = (A * profit_A) + (B * profit_B)\n",
        "\n",
        "            if profit > max_profit:\n",
        "                max_profit = profit\n",
        "                optimal_A = A\n",
        "                optimal_B = B\n",
        "\n",
        "print(\"Optimal solution found:\")\n",
        "print(f\"Units of Chocolate A to produce: {optimal_A}\")\n",
        "print(f\"Units of Chocolate B to produce: {optimal_B}\")\n",
        "print(f\"Maximum Profit: Rs {max_profit}\")"
      ],
      "metadata": {
        "colab": {
          "base_uri": "https://localhost:8080/"
        },
        "id": "XMnKIXIbSL_a",
        "outputId": "ed37945a-fbd9-4f50-e783-a84867f8fb63"
      },
      "execution_count": 3,
      "outputs": [
        {
          "output_type": "stream",
          "name": "stdout",
          "text": [
            "Optimal solution found:\n",
            "Units of Chocolate A to produce: 2\n",
            "Units of Chocolate B to produce: 3\n",
            "Maximum Profit: Rs 27\n"
          ]
        }
      ]
    },
    {
      "cell_type": "markdown",
      "source": [
        "   2.(1 ponto) Develop mathematical modeling for the given case study and find solution using Python"
      ],
      "metadata": {
        "id": "RQlpnWa8SWRI"
      }
    },
    {
      "cell_type": "code",
      "source": [
        "max_profit=0\n",
        "optimal_x=0\n",
        "optimal_y=0\n",
        "for x in range(111):\n",
        "    for y in range(111):\n",
        "        if x + y == 110 or 7000 * x + 2000 * y == 700000 or 10 * x + 30 * y == 1200:\n",
        "            if x + y <= 110 and 7000 * x + 2000 * y <= 700000 and 10 * x + 30 * y <= 1200:\n",
        "                profit = 50 * x + 120 * y\n",
        "                if profit > max_profit:\n",
        "                    max_profit = profit\n",
        "                    optimal_x = x\n",
        "                    optimal_y = y"
      ],
      "metadata": {
        "id": "LiPimGTRSSuO"
      },
      "execution_count": 4,
      "outputs": []
    },
    {
      "cell_type": "code",
      "source": [
        "print(\"Optimal number of hectares for Wheat:\", optimal_x)\n",
        "print(\"Optimal number of hectares for Barley:\", optimal_y)\n",
        "print(\"Maximum profit:\", max_profit)"
      ],
      "metadata": {
        "colab": {
          "base_uri": "https://localhost:8080/"
        },
        "id": "mXlFYHPcSdMo",
        "outputId": "2364bffa-d67d-4d06-9abb-2aaca22c679d"
      },
      "execution_count": 5,
      "outputs": [
        {
          "output_type": "stream",
          "name": "stdout",
          "text": [
            "Optimal number of hectares for Wheat: 96\n",
            "Optimal number of hectares for Barley: 8\n",
            "Maximum profit: 5760\n"
          ]
        }
      ]
    }
  ]
}