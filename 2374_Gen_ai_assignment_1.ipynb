{
  "nbformat": 4,
  "nbformat_minor": 0,
  "metadata": {
    "colab": {
      "provenance": []
    },
    "kernelspec": {
      "name": "python3",
      "display_name": "Python 3"
    },
    "language_info": {
      "name": "python"
    }
  },
  "cells": [
    {
      "cell_type": "markdown",
      "source": [
        "Write Python code from scratch to find error metrics of deep learning model. Actual values and deep learning model predicted values are shown in Table 1. Also compare the results with the outcomes of libraries"
      ],
      "metadata": {
        "id": "E_bjre4rMrnD"
      }
    },
    {
      "cell_type": "code",
      "execution_count": null,
      "metadata": {
        "colab": {
          "base_uri": "https://localhost:8080/"
        },
        "id": "E1ZOpZU1LvU2",
        "outputId": "111b6705-3288-4ffb-efdc-f42dac426ae9"
      },
      "outputs": [
        {
          "output_type": "stream",
          "name": "stdout",
          "text": [
            "Mean Absolute Error : 0.46\n"
          ]
        }
      ],
      "source": [
        "from sklearn.metrics import mean_absolute_error\n",
        "\n",
        "Y_actual = [20, 30, 40, 50, 60]\n",
        "Y_pred = [20.5, 30.3, 40.2, 50.6, 60.7]\n",
        "\n",
        "\n",
        "MAE= mean_absolute_error(Y_actual, Y_pred)\n",
        "\n",
        "print(f\"Mean Absolute Error : {MAE:.2f}\")"
      ]
    },
    {
      "cell_type": "markdown",
      "source": [
        "MEAN SQUARE ERROR"
      ],
      "metadata": {
        "id": "7KwyTPS0NLZc"
      }
    },
    {
      "cell_type": "code",
      "source": [
        "from sklearn.metrics import mean_squared_error\n",
        "\n",
        "MSE= mean_squared_error(Y_actual, Y_pred)\n",
        "print(f\"Mean Squared Error : {MSE:.2f}\")"
      ],
      "metadata": {
        "colab": {
          "base_uri": "https://localhost:8080/"
        },
        "id": "Gyq9MidlNGpG",
        "outputId": "a1931e12-6a28-4d3f-921a-6bf48294bbd1"
      },
      "execution_count": null,
      "outputs": [
        {
          "output_type": "stream",
          "name": "stdout",
          "text": [
            "Mean Squared Error : 0.25\n"
          ]
        }
      ]
    },
    {
      "cell_type": "markdown",
      "source": [
        "ROOT MEAN SQUARE ERROR"
      ],
      "metadata": {
        "id": "RvsCa5B9NW5Y"
      }
    },
    {
      "cell_type": "code",
      "source": [
        "import numpy as np\n",
        "\n",
        "rmse_numpy = np.sqrt(np.mean((np.array(Y_actual) - np.array(Y_pred)) ** 2))\n",
        "print(f\"RMSE using NumPy: {rmse_numpy:.4f}\")"
      ],
      "metadata": {
        "colab": {
          "base_uri": "https://localhost:8080/"
        },
        "id": "IbwpNGsWNT5I",
        "outputId": "ebb1c6b6-1908-4ccb-d312-5822432a3dfa"
      },
      "execution_count": null,
      "outputs": [
        {
          "output_type": "stream",
          "name": "stdout",
          "text": [
            "RMSE using NumPy: 0.4960\n"
          ]
        }
      ]
    },
    {
      "cell_type": "markdown",
      "source": [
        "AMONG THE 3 ERROR METRICS MSE HAS GIVEN THE LEAST ERROR = 0.25\n",
        "\n",
        "QUESTION 2\n",
        "\n",
        "Write python code from scratch to find evaluation metrics of deep learning model. Actual values and deep learning model predicted values are shown in Table 2. Also compare the results with outcome of libraries"
      ],
      "metadata": {
        "id": "B9ha2xTwNw7z"
      }
    },
    {
      "cell_type": "code",
      "source": [
        "\n",
        "from sklearn.metrics import confusion_matrix, ConfusionMatrixDisplay\n",
        "\n",
        "y_actual = [0, 0, 1, 1, 2, 0, 0, 0, 1, 0, 2, 0, 0, 1, 1, 2, 2, 1, 0, 2, 1, 0, 2, 2, 0, 2, 1, 2, 2, 2]\n",
        "y_pred =   [0, 0, 1, 0, 2, 0, 0, 0, 1, 2, 2, 0, 0, 1, 1, 2, 2, 1, 2, 2, 1, 0, 2, 2, 0, 2, 1, 2, 2, 2]\n",
        "\n",
        "cm = confusion_matrix(y_actual, y_pred)\n",
        "\n",
        "print(\"Confusion Matrix :\\n\", cm)"
      ],
      "metadata": {
        "colab": {
          "base_uri": "https://localhost:8080/"
        },
        "id": "dGQHhgKGNiFP",
        "outputId": "e88dc4e6-b22c-4db7-98cc-47d019fc8cb4"
      },
      "execution_count": null,
      "outputs": [
        {
          "output_type": "stream",
          "name": "stdout",
          "text": [
            "Confusion Matrix :\n",
            " [[ 9  0  2]\n",
            " [ 1  7  0]\n",
            " [ 0  0 11]]\n"
          ]
        }
      ]
    },
    {
      "cell_type": "markdown",
      "source": [
        "ACCURACY"
      ],
      "metadata": {
        "id": "imoMSQqJN8jd"
      }
    },
    {
      "cell_type": "code",
      "source": [
        "from sklearn.metrics import accuracy_score\n",
        "\n",
        "accuracy = accuracy_score(y_actual, y_pred)\n",
        "print(f\"Accuracy: {accuracy * 100:.2f}%\")"
      ],
      "metadata": {
        "colab": {
          "base_uri": "https://localhost:8080/"
        },
        "id": "ThRJs17MN3CZ",
        "outputId": "7f891e0d-67f7-49c7-f349-5f7c1b6c6989"
      },
      "execution_count": null,
      "outputs": [
        {
          "output_type": "stream",
          "name": "stdout",
          "text": [
            "Accuracy: 90.00%\n"
          ]
        }
      ]
    },
    {
      "cell_type": "code",
      "source": [
        "from sklearn.metrics import precision_score\n",
        "\n",
        "precision = precision_score(y_actual, y_pred, average='macro')\n",
        "print(f\"Precision: {precision:.2f}\")"
      ],
      "metadata": {
        "colab": {
          "base_uri": "https://localhost:8080/"
        },
        "id": "CnwSnNcQOCj2",
        "outputId": "4fc10464-acb3-4546-f498-49b1090c0d2b"
      },
      "execution_count": null,
      "outputs": [
        {
          "output_type": "stream",
          "name": "stdout",
          "text": [
            "Precision: 0.92\n"
          ]
        }
      ]
    },
    {
      "cell_type": "markdown",
      "source": [
        "F1 -SCORE"
      ],
      "metadata": {
        "id": "Hamh-jnhOLaZ"
      }
    },
    {
      "cell_type": "code",
      "source": [
        "from sklearn.metrics import f1_score\n",
        "\n",
        "f1 = f1_score(y_actual, y_pred, average='weighted')\n",
        "print(f\"F1-Score {f1:.2f}\")"
      ],
      "metadata": {
        "colab": {
          "base_uri": "https://localhost:8080/"
        },
        "id": "qNyRfq08OJM7",
        "outputId": "84d196c9-7b3e-4a53-8e3d-969f2d3090e2"
      },
      "execution_count": null,
      "outputs": [
        {
          "output_type": "stream",
          "name": "stdout",
          "text": [
            "F1-Score 0.90\n"
          ]
        }
      ]
    },
    {
      "cell_type": "markdown",
      "source": [
        "RECALL"
      ],
      "metadata": {
        "id": "6QHOJGH5OQT7"
      }
    },
    {
      "cell_type": "code",
      "source": [
        "from sklearn.metrics import recall_score\n",
        "\n",
        "recall = recall_score(y_actual, y_pred, average='weighted')\n",
        "print(\"Recall:\", recall)"
      ],
      "metadata": {
        "colab": {
          "base_uri": "https://localhost:8080/"
        },
        "id": "cVuo3gJ7OS0R",
        "outputId": "91608845-3206-43a6-cbb4-28688aec0b28"
      },
      "execution_count": null,
      "outputs": [
        {
          "output_type": "stream",
          "name": "stdout",
          "text": [
            "Recall: 0.9\n"
          ]
        }
      ]
    }
  ]
}